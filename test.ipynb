{
 "cells": [
  {
   "cell_type": "markdown",
   "id": "9a1bfdf6-7c3e-4aaf-80ef-0c9dc11d5989",
   "metadata": {},
   "source": [
    "# Sommaire\n",
    "le but de l'exercice est faire sur la Loire-Atlantique: \n",
    "- La collecte des données pour chaque commune nom, prenom, adresse des praticiens (ameli.fr & data.gouv.fr)\n",
    "- L'aggregation\n",
    "- L'analyse des résultats, présentation\n",
    "\n",
    "De ce fait je vais grace à l'importation des librairies, récupérer les données des praticiens, ensuite récupérer les habitans de chaque commune et en fin faire l'analyse et l'interprétation des résultats\n"
   ]
  },
  {
   "cell_type": "markdown",
   "id": "a99583db",
   "metadata": {},
   "source": [
    "# Import libraries\n",
    "les librairies dont nous aurons besoin:\n",
    "- pandas\n",
    "- beautiful soup\n",
    "- request\n",
    "- re\n",
    "- numpy\n",
    "- matplotlib"
   ]
  },
  {
   "cell_type": "markdown",
   "id": "99914125",
   "metadata": {},
   "source": [
    "- importation des librairies"
   ]
  },
  {
   "cell_type": "code",
   "execution_count": 93,
   "id": "8fe767e3",
   "metadata": {},
   "outputs": [],
   "source": [
    "import requests\n",
    "from bs4 import BeautifulSoup\n",
    "import pandas as pd\n",
    "import re\n",
    "import numpy as np\n",
    "import matplotlib.pyplot as plt"
   ]
  },
  {
   "cell_type": "markdown",
   "id": "6ccbd922-db0c-45f3-9a92-1c64fb02b084",
   "metadata": {},
   "source": [
    "## Partie 1: récupération des praticiens"
   ]
  },
  {
   "cell_type": "markdown",
   "id": "6752be62",
   "metadata": {},
   "source": [
    "- l'url donnant accés à tous les praticiens des communes de la loire atlantique"
   ]
  },
  {
   "cell_type": "code",
   "execution_count": 94,
   "id": "5044ae0e-b1d2-4530-9eef-e1ffd5f9d1b7",
   "metadata": {},
   "outputs": [],
   "source": [
    "dep = 44\n",
    "url = f\"http://annuairesante.ameli.fr/trouver-un-professionnel-de-sante/chirurgiens-dentistes/{dep}-loire-atlantique\"\n",
    "base_url = \"http://annuairesante.ameli.fr\""
   ]
  },
  {
   "cell_type": "markdown",
   "id": "9c29dde0",
   "metadata": {},
   "source": [
    "- récupération des données à partir de la page de l'url ensuite parser en html"
   ]
  },
  {
   "cell_type": "code",
   "execution_count": 95,
   "id": "7b92f03c-66b9-41fd-89eb-4f78c985a800",
   "metadata": {},
   "outputs": [],
   "source": [
    "response = requests.get(url)\n",
    "soup = BeautifulSoup(response.text,'html.parser')\n",
    "a_href = soup.findAll('a')"
   ]
  },
  {
   "cell_type": "markdown",
   "id": "d49d7894",
   "metadata": {},
   "source": [
    "- la liste des url des commune de la loire:\n",
    "    list_url_ville  \n",
    "- liste des noms des communes et leurs code postaux:\n",
    "    list_ville\n",
    "- on ignore les 3 premiers et les 6 derniers éléments de la liste des résultats dans a_href:\n",
    "    a_href = a_href[3:-6]"
   ]
  },
  {
   "cell_type": "code",
   "execution_count": 96,
   "id": "07951f31",
   "metadata": {},
   "outputs": [],
   "source": [
    "list_url_ville = [] \n",
    "list_ville = [] \n",
    "a_href = a_href[3:-6]\n",
    "for link in a_href:\n",
    "    if link.has_attr('href'):\n",
    "        list_url_ville.append(link['href'])\n",
    "        list_ville.append(link.text)"
   ]
  },
  {
   "cell_type": "markdown",
   "id": "3d83e013",
   "metadata": {},
   "source": [
    "fonction permettant de récupérer les informations des praticiens dont les entrées sont le nom de la commune et url de la commune contenant les informations des praticiens"
   ]
  },
  {
   "cell_type": "code",
   "execution_count": 97,
   "id": "d73a5788-7f38-46f1-aa8d-441e8b3947f3",
   "metadata": {},
   "outputs": [],
   "source": [
    "def get_praticien_ville(ville, url):\n",
    "    response_name = requests.get(base_url + url)\n",
    "    soup_name = BeautifulSoup(response_name.text, 'html.parser')\n",
    "    name = soup_name.findAll('a')\n",
    "    adress = soup_name.findAll(class_=\"item left adresse\")\n",
    "    \n",
    "    # contient le nom et le prenom de tous les praticiens de la ville\n",
    "    name_clean = [] \n",
    "    for n in name:\n",
    "        if n.strong:\n",
    "            name_clean.append(n)\n",
    "            \n",
    "    # liste des informations des praticiens de la ville: nom, adresse et ville\n",
    "    list_info_praticiens = [] \n",
    "    for j in range(len(name_clean)):\n",
    "        \n",
    "        info_praticiens = {}        \n",
    "        info_praticiens['nom'] = name_clean[j].text\n",
    "        info_praticiens['adress'] = adress[j].text\n",
    "        info_praticiens['ville'] = ville\n",
    "        list_info_praticiens.append(info_praticiens)\n",
    "        \n",
    "    return list_info_praticiens\n"
   ]
  },
  {
   "cell_type": "markdown",
   "id": "677a08de",
   "metadata": {},
   "source": [
    "liste contenant les informations de tous les praticiens de toutes les communes de la loire atlantique"
   ]
  },
  {
   "cell_type": "code",
   "execution_count": 113,
   "id": "df2c4534-b7f1-4ea2-8250-5c6b0e298795",
   "metadata": {},
   "outputs": [],
   "source": [
    "all_praticiens = [] \n",
    "for i in range(len(list_url_ville)):\n",
    "    praticiens = get_praticien_ville(list_ville[i], list_url_ville[i])\n",
    "    all_praticiens.extend(praticiens)     \n",
    "# all_praticiens"
   ]
  },
  {
   "cell_type": "markdown",
   "id": "a42526ef",
   "metadata": {},
   "source": [
    "on crée un dataframe à partir de la liste des informations de tous les praticiens du département de la loire"
   ]
  },
  {
   "cell_type": "code",
   "execution_count": 100,
   "id": "02d49041-7f4b-4960-8ed6-dba45fad6c20",
   "metadata": {},
   "outputs": [],
   "source": [
    "df = pd.DataFrame(all_praticiens)"
   ]
  },
  {
   "cell_type": "markdown",
   "id": "4bb07ab7",
   "metadata": {},
   "source": [
    "Nous avons dans notre table un total de 667 praticiens sur tout le département de la loire Atlantique."
   ]
  },
  {
   "cell_type": "code",
   "execution_count": 101,
   "id": "d54dcdad",
   "metadata": {},
   "outputs": [
    {
     "data": {
      "text/plain": [
       "(667, 3)"
      ]
     },
     "execution_count": 101,
     "metadata": {},
     "output_type": "execute_result"
    }
   ],
   "source": [
    "df.shape"
   ]
  },
  {
   "cell_type": "markdown",
   "id": "7818bd5c",
   "metadata": {},
   "source": [
    "Ajoutons une colonne code postal avec une expression régulière en le récupérant à partir de la colonne ville"
   ]
  },
  {
   "cell_type": "code",
   "execution_count": 102,
   "id": "ddfd3e4e",
   "metadata": {},
   "outputs": [],
   "source": [
    "df['code_postal'] = df.ville.apply(lambda x: re.findall('\\d+', x)[0])"
   ]
  },
  {
   "cell_type": "markdown",
   "id": "d242bbb7",
   "metadata": {},
   "source": [
    "ajout effctué, code_postal présent"
   ]
  },
  {
   "cell_type": "code",
   "execution_count": 103,
   "id": "7579fb96",
   "metadata": {},
   "outputs": [
    {
     "data": {
      "text/plain": [
       "nom            object\n",
       "adress         object\n",
       "ville          object\n",
       "code_postal    object\n",
       "dtype: object"
      ]
     },
     "execution_count": 103,
     "metadata": {},
     "output_type": "execute_result"
    }
   ],
   "source": [
    "df.dtypes"
   ]
  },
  {
   "cell_type": "markdown",
   "id": "825de20b",
   "metadata": {},
   "source": [
    "j'agrège (groupby) les données par code postal pour avoir le nombre de praticien par code postal"
   ]
  },
  {
   "cell_type": "code",
   "execution_count": 104,
   "id": "c59c9fd1-4e1c-44d8-8a2a-3a85b9b0ae16",
   "metadata": {},
   "outputs": [
    {
     "data": {
      "text/html": [
       "<div>\n",
       "<style scoped>\n",
       "    .dataframe tbody tr th:only-of-type {\n",
       "        vertical-align: middle;\n",
       "    }\n",
       "\n",
       "    .dataframe tbody tr th {\n",
       "        vertical-align: top;\n",
       "    }\n",
       "\n",
       "    .dataframe thead th {\n",
       "        text-align: right;\n",
       "    }\n",
       "</style>\n",
       "<table border=\"1\" class=\"dataframe\">\n",
       "  <thead>\n",
       "    <tr style=\"text-align: right;\">\n",
       "      <th></th>\n",
       "      <th>code_postal</th>\n",
       "      <th>nb_praticiens</th>\n",
       "    </tr>\n",
       "  </thead>\n",
       "  <tbody>\n",
       "    <tr>\n",
       "      <th>0</th>\n",
       "      <td>44000</td>\n",
       "      <td>19</td>\n",
       "    </tr>\n",
       "    <tr>\n",
       "      <th>1</th>\n",
       "      <td>44110</td>\n",
       "      <td>15</td>\n",
       "    </tr>\n",
       "    <tr>\n",
       "      <th>2</th>\n",
       "      <td>44115</td>\n",
       "      <td>19</td>\n",
       "    </tr>\n",
       "    <tr>\n",
       "      <th>3</th>\n",
       "      <td>44116</td>\n",
       "      <td>2</td>\n",
       "    </tr>\n",
       "    <tr>\n",
       "      <th>4</th>\n",
       "      <td>44117</td>\n",
       "      <td>6</td>\n",
       "    </tr>\n",
       "    <tr>\n",
       "      <th>...</th>\n",
       "      <td>...</td>\n",
       "      <td>...</td>\n",
       "    </tr>\n",
       "    <tr>\n",
       "      <th>66</th>\n",
       "      <td>44840</td>\n",
       "      <td>4</td>\n",
       "    </tr>\n",
       "    <tr>\n",
       "      <th>67</th>\n",
       "      <td>44850</td>\n",
       "      <td>7</td>\n",
       "    </tr>\n",
       "    <tr>\n",
       "      <th>68</th>\n",
       "      <td>44860</td>\n",
       "      <td>9</td>\n",
       "    </tr>\n",
       "    <tr>\n",
       "      <th>69</th>\n",
       "      <td>44880</td>\n",
       "      <td>8</td>\n",
       "    </tr>\n",
       "    <tr>\n",
       "      <th>70</th>\n",
       "      <td>44980</td>\n",
       "      <td>8</td>\n",
       "    </tr>\n",
       "  </tbody>\n",
       "</table>\n",
       "<p>71 rows × 2 columns</p>\n",
       "</div>"
      ],
      "text/plain": [
       "   code_postal  nb_praticiens\n",
       "0        44000             19\n",
       "1        44110             15\n",
       "2        44115             19\n",
       "3        44116              2\n",
       "4        44117              6\n",
       "..         ...            ...\n",
       "66       44840              4\n",
       "67       44850              7\n",
       "68       44860              9\n",
       "69       44880              8\n",
       "70       44980              8\n",
       "\n",
       "[71 rows x 2 columns]"
      ]
     },
     "execution_count": 104,
     "metadata": {},
     "output_type": "execute_result"
    }
   ],
   "source": [
    "groupby_code_postal = df.groupby(['code_postal']).size().reset_index()\n",
    "groupby_code_postal.columns=['code_postal','nb_praticiens']\n",
    "groupby_code_postal"
   ]
  },
  {
   "cell_type": "markdown",
   "id": "2ae346e3",
   "metadata": {},
   "source": [
    "ci_dessus on onstate que l'agregation est faite, nous avons au total 71 codes postaux et le nombre de praticien pour chacun des codes postaux"
   ]
  },
  {
   "cell_type": "markdown",
   "id": "b6db8741-4b30-4016-bbd0-799176f5919d",
   "metadata": {},
   "source": [
    "## Partie 2: récupération de la population\n",
    " Après avoir récupérer les données sur les particiens, nous allons récupérer la population totale pour chaque commune"
   ]
  },
  {
   "cell_type": "markdown",
   "id": "451e2ba0",
   "metadata": {},
   "source": [
    "Récupération deux fichiers csv dont l'un contient la population mais au niveau commune et donc j'ai besoin de l'autre fichier pour faire le lien entre commune et code postal"
   ]
  },
  {
   "cell_type": "markdown",
   "id": "162cbc48",
   "metadata": {},
   "source": [
    "- lecture du fichier csv contenant les données de recensement des codes communes et départementaux, des noms des communes en france"
   ]
  },
  {
   "cell_type": "code",
   "execution_count": 105,
   "id": "4de4f4a1-382c-4475-9edc-765bcd5cd8f4",
   "metadata": {},
   "outputs": [],
   "source": [
    "code_commune = pd.read_csv(\"donnees_communes.csv\", sep=\";\")"
   ]
  },
  {
   "cell_type": "markdown",
   "id": "ed5703a4",
   "metadata": {},
   "source": [
    "- lecture du  fichier csv contenant les noms des communes, les dode postaux, les codes communes"
   ]
  },
  {
   "cell_type": "code",
   "execution_count": 106,
   "id": "c4b39a37",
   "metadata": {},
   "outputs": [],
   "source": [
    "code_commune_post = pd.read_csv(\"laposte_hexasmal.csv\", sep=\";\")"
   ]
  },
  {
   "cell_type": "markdown",
   "id": "af50cee0",
   "metadata": {},
   "source": [
    "- rajout d'une colonne code_commune_insee en faisant la concaténation du code département et du code commune qui nous permettra de faire la liaison des deux fichiers."
   ]
  },
  {
   "cell_type": "code",
   "execution_count": 107,
   "id": "f8ef927a",
   "metadata": {},
   "outputs": [],
   "source": [
    "code_commune.CODCOM=code_commune.CODCOM.apply(lambda x : str(x).zfill(3))\n",
    "code_commune['code_commune_insee']=code_commune.CODDEP+code_commune.CODCOM"
   ]
  },
  {
   "cell_type": "markdown",
   "id": "bd4f5d55",
   "metadata": {},
   "source": [
    "merge des deux fichiers afin d'avoir la liaison entre les codes postaux et les nombres d'habitants grâce à leur colonne commune qui est code_commune_insee"
   ]
  },
  {
   "cell_type": "code",
   "execution_count": 108,
   "id": "06c83dba",
   "metadata": {},
   "outputs": [],
   "source": [
    "merges=pd.merge(code_commune_post,code_commune,on='code_commune_insee')\n",
    "merges.code_postal=merges.code_postal.astype(str)"
   ]
  },
  {
   "cell_type": "markdown",
   "id": "b2e08128",
   "metadata": {},
   "source": [
    "je récupère les colonnes code postal et population totale (pour toutes les communes de France)"
   ]
  },
  {
   "cell_type": "code",
   "execution_count": 109,
   "id": "de462746",
   "metadata": {},
   "outputs": [
    {
     "data": {
      "text/html": [
       "<div>\n",
       "<style scoped>\n",
       "    .dataframe tbody tr th:only-of-type {\n",
       "        vertical-align: middle;\n",
       "    }\n",
       "\n",
       "    .dataframe tbody tr th {\n",
       "        vertical-align: top;\n",
       "    }\n",
       "\n",
       "    .dataframe thead th {\n",
       "        text-align: right;\n",
       "    }\n",
       "</style>\n",
       "<table border=\"1\" class=\"dataframe\">\n",
       "  <thead>\n",
       "    <tr style=\"text-align: right;\">\n",
       "      <th></th>\n",
       "      <th>code_postal</th>\n",
       "      <th>PTOT</th>\n",
       "    </tr>\n",
       "  </thead>\n",
       "  <tbody>\n",
       "    <tr>\n",
       "      <th>0</th>\n",
       "      <td>25650</td>\n",
       "      <td>343</td>\n",
       "    </tr>\n",
       "    <tr>\n",
       "      <th>1</th>\n",
       "      <td>25640</td>\n",
       "      <td>151</td>\n",
       "    </tr>\n",
       "    <tr>\n",
       "      <th>2</th>\n",
       "      <td>26150</td>\n",
       "      <td>436</td>\n",
       "    </tr>\n",
       "    <tr>\n",
       "      <th>3</th>\n",
       "      <td>26150</td>\n",
       "      <td>436</td>\n",
       "    </tr>\n",
       "    <tr>\n",
       "      <th>4</th>\n",
       "      <td>26770</td>\n",
       "      <td>50</td>\n",
       "    </tr>\n",
       "    <tr>\n",
       "      <th>...</th>\n",
       "      <td>...</td>\n",
       "      <td>...</td>\n",
       "    </tr>\n",
       "    <tr>\n",
       "      <th>38712</th>\n",
       "      <td>95760</td>\n",
       "      <td>1238</td>\n",
       "    </tr>\n",
       "    <tr>\n",
       "      <th>38713</th>\n",
       "      <td>95270</td>\n",
       "      <td>5267</td>\n",
       "    </tr>\n",
       "    <tr>\n",
       "      <th>38714</th>\n",
       "      <td>95570</td>\n",
       "      <td>783</td>\n",
       "    </tr>\n",
       "    <tr>\n",
       "      <th>38715</th>\n",
       "      <td>95380</td>\n",
       "      <td>1520</td>\n",
       "    </tr>\n",
       "    <tr>\n",
       "      <th>38716</th>\n",
       "      <td>95840</td>\n",
       "      <td>872</td>\n",
       "    </tr>\n",
       "  </tbody>\n",
       "</table>\n",
       "<p>38717 rows × 2 columns</p>\n",
       "</div>"
      ],
      "text/plain": [
       "      code_postal  PTOT\n",
       "0           25650   343\n",
       "1           25640   151\n",
       "2           26150   436\n",
       "3           26150   436\n",
       "4           26770    50\n",
       "...           ...   ...\n",
       "38712       95760  1238\n",
       "38713       95270  5267\n",
       "38714       95570   783\n",
       "38715       95380  1520\n",
       "38716       95840   872\n",
       "\n",
       "[38717 rows x 2 columns]"
      ]
     },
     "execution_count": 109,
     "metadata": {},
     "output_type": "execute_result"
    }
   ],
   "source": [
    "merges=merges[[\"code_postal\",\"PTOT\"]]\n",
    "merges"
   ]
  },
  {
   "cell_type": "markdown",
   "id": "58c43d02",
   "metadata": {},
   "source": [
    "Après avoir récupérer le code postal et la population totale,\n",
    "je fais le merge avec le dataFrame #groupby_code_postal afin d'avoir code postal,\n",
    "nombre de praticien et la population totale par code postal et le nombre d'habitant/nb_praticien pour le département de la loire atlantique\n"
   ]
  },
  {
   "cell_type": "code",
   "execution_count": 110,
   "id": "7e21201a",
   "metadata": {},
   "outputs": [
    {
     "data": {
      "text/html": [
       "<div>\n",
       "<style scoped>\n",
       "    .dataframe tbody tr th:only-of-type {\n",
       "        vertical-align: middle;\n",
       "    }\n",
       "\n",
       "    .dataframe tbody tr th {\n",
       "        vertical-align: top;\n",
       "    }\n",
       "\n",
       "    .dataframe thead th {\n",
       "        text-align: right;\n",
       "    }\n",
       "</style>\n",
       "<table border=\"1\" class=\"dataframe\">\n",
       "  <thead>\n",
       "    <tr style=\"text-align: right;\">\n",
       "      <th></th>\n",
       "      <th>code_postal</th>\n",
       "      <th>nb_praticiens</th>\n",
       "      <th>PTOT</th>\n",
       "      <th>population_sur_nb_praticiens</th>\n",
       "    </tr>\n",
       "  </thead>\n",
       "  <tbody>\n",
       "    <tr>\n",
       "      <th>0</th>\n",
       "      <td>44000</td>\n",
       "      <td>19</td>\n",
       "      <td>323975</td>\n",
       "      <td>17051.315789</td>\n",
       "    </tr>\n",
       "    <tr>\n",
       "      <th>1</th>\n",
       "      <td>44110</td>\n",
       "      <td>15</td>\n",
       "      <td>696</td>\n",
       "      <td>46.400000</td>\n",
       "    </tr>\n",
       "    <tr>\n",
       "      <th>2</th>\n",
       "      <td>44110</td>\n",
       "      <td>15</td>\n",
       "      <td>12528</td>\n",
       "      <td>835.200000</td>\n",
       "    </tr>\n",
       "    <tr>\n",
       "      <th>3</th>\n",
       "      <td>44110</td>\n",
       "      <td>15</td>\n",
       "      <td>1815</td>\n",
       "      <td>121.000000</td>\n",
       "    </tr>\n",
       "    <tr>\n",
       "      <th>4</th>\n",
       "      <td>44110</td>\n",
       "      <td>15</td>\n",
       "      <td>2059</td>\n",
       "      <td>137.266667</td>\n",
       "    </tr>\n",
       "    <tr>\n",
       "      <th>...</th>\n",
       "      <td>...</td>\n",
       "      <td>...</td>\n",
       "      <td>...</td>\n",
       "      <td>...</td>\n",
       "    </tr>\n",
       "    <tr>\n",
       "      <th>227</th>\n",
       "      <td>44860</td>\n",
       "      <td>9</td>\n",
       "      <td>6557</td>\n",
       "      <td>728.555556</td>\n",
       "    </tr>\n",
       "    <tr>\n",
       "      <th>228</th>\n",
       "      <td>44860</td>\n",
       "      <td>9</td>\n",
       "      <td>6557</td>\n",
       "      <td>728.555556</td>\n",
       "    </tr>\n",
       "    <tr>\n",
       "      <th>229</th>\n",
       "      <td>44860</td>\n",
       "      <td>9</td>\n",
       "      <td>4014</td>\n",
       "      <td>446.000000</td>\n",
       "    </tr>\n",
       "    <tr>\n",
       "      <th>230</th>\n",
       "      <td>44880</td>\n",
       "      <td>8</td>\n",
       "      <td>8644</td>\n",
       "      <td>1080.500000</td>\n",
       "    </tr>\n",
       "    <tr>\n",
       "      <th>231</th>\n",
       "      <td>44980</td>\n",
       "      <td>8</td>\n",
       "      <td>15588</td>\n",
       "      <td>1948.500000</td>\n",
       "    </tr>\n",
       "  </tbody>\n",
       "</table>\n",
       "<p>232 rows × 4 columns</p>\n",
       "</div>"
      ],
      "text/plain": [
       "    code_postal  nb_praticiens    PTOT  population_sur_nb_praticiens\n",
       "0         44000             19  323975                  17051.315789\n",
       "1         44110             15     696                     46.400000\n",
       "2         44110             15   12528                    835.200000\n",
       "3         44110             15    1815                    121.000000\n",
       "4         44110             15    2059                    137.266667\n",
       "..          ...            ...     ...                           ...\n",
       "227       44860              9    6557                    728.555556\n",
       "228       44860              9    6557                    728.555556\n",
       "229       44860              9    4014                    446.000000\n",
       "230       44880              8    8644                   1080.500000\n",
       "231       44980              8   15588                   1948.500000\n",
       "\n",
       "[232 rows x 4 columns]"
      ]
     },
     "execution_count": 110,
     "metadata": {},
     "output_type": "execute_result"
    }
   ],
   "source": [
    "newDataFrame=groupby_code_postal.merge(merges,on =\"code_postal\",how='inner')\n",
    "newDataFrame['population_sur_nb_praticiens']=newDataFrame.PTOT/newDataFrame.nb_praticiens\n",
    "newDataFrame"
   ]
  },
  {
   "cell_type": "markdown",
   "id": "0f020935",
   "metadata": {},
   "source": [
    "# Partie 3: Resultats et interprétations"
   ]
  },
  {
   "cell_type": "code",
   "execution_count": 111,
   "id": "8f5933e2",
   "metadata": {},
   "outputs": [
    {
     "data": {
      "text/html": [
       "<div>\n",
       "<style scoped>\n",
       "    .dataframe tbody tr th:only-of-type {\n",
       "        vertical-align: middle;\n",
       "    }\n",
       "\n",
       "    .dataframe tbody tr th {\n",
       "        vertical-align: top;\n",
       "    }\n",
       "\n",
       "    .dataframe thead th {\n",
       "        text-align: right;\n",
       "    }\n",
       "</style>\n",
       "<table border=\"1\" class=\"dataframe\">\n",
       "  <thead>\n",
       "    <tr style=\"text-align: right;\">\n",
       "      <th></th>\n",
       "      <th>nb_praticiens</th>\n",
       "      <th>PTOT</th>\n",
       "      <th>population_sur_nb_praticiens</th>\n",
       "    </tr>\n",
       "  </thead>\n",
       "  <tbody>\n",
       "    <tr>\n",
       "      <th>count</th>\n",
       "      <td>232.000000</td>\n",
       "      <td>232.000000</td>\n",
       "      <td>232.000000</td>\n",
       "    </tr>\n",
       "    <tr>\n",
       "      <th>mean</th>\n",
       "      <td>9.293103</td>\n",
       "      <td>8332.267241</td>\n",
       "      <td>1095.058847</td>\n",
       "    </tr>\n",
       "    <tr>\n",
       "      <th>std</th>\n",
       "      <td>5.616946</td>\n",
       "      <td>22784.872283</td>\n",
       "      <td>1648.909950</td>\n",
       "    </tr>\n",
       "    <tr>\n",
       "      <th>min</th>\n",
       "      <td>1.000000</td>\n",
       "      <td>379.000000</td>\n",
       "      <td>40.133333</td>\n",
       "    </tr>\n",
       "    <tr>\n",
       "      <th>25%</th>\n",
       "      <td>5.000000</td>\n",
       "      <td>2403.750000</td>\n",
       "      <td>293.484848</td>\n",
       "    </tr>\n",
       "    <tr>\n",
       "      <th>50%</th>\n",
       "      <td>8.000000</td>\n",
       "      <td>4096.500000</td>\n",
       "      <td>582.428571</td>\n",
       "    </tr>\n",
       "    <tr>\n",
       "      <th>75%</th>\n",
       "      <td>13.000000</td>\n",
       "      <td>7607.000000</td>\n",
       "      <td>1131.054487</td>\n",
       "    </tr>\n",
       "    <tr>\n",
       "      <th>max</th>\n",
       "      <td>24.000000</td>\n",
       "      <td>323975.000000</td>\n",
       "      <td>17051.315789</td>\n",
       "    </tr>\n",
       "  </tbody>\n",
       "</table>\n",
       "</div>"
      ],
      "text/plain": [
       "       nb_praticiens           PTOT  population_sur_nb_praticiens\n",
       "count     232.000000     232.000000                    232.000000\n",
       "mean        9.293103    8332.267241                   1095.058847\n",
       "std         5.616946   22784.872283                   1648.909950\n",
       "min         1.000000     379.000000                     40.133333\n",
       "25%         5.000000    2403.750000                    293.484848\n",
       "50%         8.000000    4096.500000                    582.428571\n",
       "75%        13.000000    7607.000000                   1131.054487\n",
       "max        24.000000  323975.000000                  17051.315789"
      ]
     },
     "execution_count": 111,
     "metadata": {},
     "output_type": "execute_result"
    }
   ],
   "source": [
    "# les statistiques\n",
    "newDataFrame.describe()"
   ]
  },
  {
   "cell_type": "markdown",
   "id": "2184c6ad",
   "metadata": {},
   "source": [
    "Dans le tableau ci_dessus, on constate qu'en moyenne le nombre de praticien par code postal est 9(qui représente les 0,1% de la population) qui est trés inférieur à la moyenne de la population qui est 8332. Le taux des praticiens est très variables d'une ville à l'autre, puisque que le minimum est de 1/40 et le maximum est de 1/16200."
   ]
  },
  {
   "cell_type": "markdown",
   "id": "15dc06da",
   "metadata": {},
   "source": [
    "# corrélation du nombre d'habitant de chaque ville en fonction du nombre de praticien"
   ]
  },
  {
   "cell_type": "code",
   "execution_count": 112,
   "id": "5f241acc",
   "metadata": {},
   "outputs": [
    {
     "data": {
      "text/plain": [
       "[<matplotlib.lines.Line2D at 0x1775a0d8df0>]"
      ]
     },
     "execution_count": 112,
     "metadata": {},
     "output_type": "execute_result"
    },
    {
     "data": {
      "image/png": "[encoded data removed]",
      "text/plain": [
       "<Figure size 432x288 with 1 Axes>"
      ]
     },
     "metadata": {
      "needs_background": "light"
     },
     "output_type": "display_data"
    }
   ],
   "source": [
    "y = pd.Series(newDataFrame.PTOT) \n",
    "x = pd.Series(newDataFrame.nb_praticiens) \n",
    "plt.scatter(x, y) \n",
    "plt.title(\"corrélation du nombre d'habitant de chaque ville en fonction du nombre de praticien\")\n",
    "plt.xlabel('x: nombre de praticiens par commune') \n",
    "plt.ylabel('y: la population total par commune')\n",
    "  \n",
    "plt.plot(np.unique(x), np.poly1d(np.polyfit(x, y, 1)) \n",
    "         (np.unique(x)), color='red') "
   ]
  },
  {
   "cell_type": "markdown",
   "id": "fab45952",
   "metadata": {},
   "source": [
    "D'après le graph, il y a une légere augmentation des praticiens par rapport à la population.\n",
    "on constate que pour les villes qui ont un nb_praticien compris entre 0 et 17, le nombre d'habitant est inférieur est à 50000.\n",
    "Pour certaines ville dont le nombre de praticien est égal à 20, le nombre de d'habitant est supérieur à 300000.\n",
    "le nombre de praticien est trés peu par rapport au nombre d'habitant pour certaines villes plus que d'autres."
   ]
  }
 ],
 "metadata": {
  "kernelspec": {
   "display_name": "Python 3 (ipykernel)",
   "language": "python",
   "name": "python3"
  },
  "language_info": {
   "codemirror_mode": {
    "name": "ipython",
    "version": 3
   },
   "file_extension": ".py",
   "mimetype": "text/x-python",
   "name": "python",
   "nbconvert_exporter": "python",
   "pygments_lexer": "ipython3",
   "version": "3.9.12"
  }
 },
 "nbformat": 4,
 "nbformat_minor": 5
}
